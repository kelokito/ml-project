{
 "cells": [
  {
   "cell_type": "code",
   "execution_count": null,
   "id": "3b1e64ce",
   "metadata": {},
   "outputs": [],
   "source": [
    "from sklearn.model_selection import KFold\n",
    "import pandas as pd\n",
    "\n",
    "def kfold_split_by_sentence_language(df, n_splits=5, random_state=42, shuffle=True):\n",
    "    # Step 1: Get unique sentence-language pairs\n",
    "    sentence_lang_pairs = df[['language', 'sentence']].drop_duplicates().reset_index(drop=True)\n",
    "    \n",
    "    # Step 2: Setup KFold\n",
    "    kf = KFold(n_splits=n_splits, shuffle=shuffle, random_state=random_state)\n",
    "\n",
    "    folds = []\n",
    "\n",
    "    # Step 3: Apply KFold to the pairs\n",
    "    for fold_idx, (train_idx, test_idx) in enumerate(kf.split(sentence_lang_pairs)):\n",
    "        train_pairs = sentence_lang_pairs.iloc[train_idx]\n",
    "        test_pairs = sentence_lang_pairs.iloc[test_idx]\n",
    "\n",
    "        # Merge back to full data\n",
    "        train_df = df.merge(train_pairs, on=['language', 'sentence'], how='inner')\n",
    "        test_df = df.merge(test_pairs, on=['language', 'sentence'], how='inner')\n",
    "\n",
    "        folds.append((train_df, test_df))\n",
    "\n",
    "    return folds\n"
   ]
  }
 ],
 "metadata": {
  "language_info": {
   "name": "python"
  }
 },
 "nbformat": 4,
 "nbformat_minor": 5
}
